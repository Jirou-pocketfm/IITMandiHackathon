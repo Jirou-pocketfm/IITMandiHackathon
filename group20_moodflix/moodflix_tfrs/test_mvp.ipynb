{
 "cells": [
  {
   "cell_type": "code",
   "execution_count": 1,
   "metadata": {},
   "outputs": [
    {
     "name": "stderr",
     "output_type": "stream",
     "text": [
      "2025-05-04 13:08:03.577327: I tensorflow/tsl/cuda/cudart_stub.cc:28] Could not find cuda drivers on your machine, GPU will not be used.\n",
      "2025-05-04 13:08:03.607462: E tensorflow/compiler/xla/stream_executor/cuda/cuda_dnn.cc:9342] Unable to register cuDNN factory: Attempting to register factory for plugin cuDNN when one has already been registered\n",
      "2025-05-04 13:08:03.607488: E tensorflow/compiler/xla/stream_executor/cuda/cuda_fft.cc:609] Unable to register cuFFT factory: Attempting to register factory for plugin cuFFT when one has already been registered\n",
      "2025-05-04 13:08:03.607518: E tensorflow/compiler/xla/stream_executor/cuda/cuda_blas.cc:1518] Unable to register cuBLAS factory: Attempting to register factory for plugin cuBLAS when one has already been registered\n",
      "2025-05-04 13:08:03.613832: I tensorflow/tsl/cuda/cudart_stub.cc:28] Could not find cuda drivers on your machine, GPU will not be used.\n",
      "2025-05-04 13:08:03.614331: I tensorflow/core/platform/cpu_feature_guard.cc:182] This TensorFlow binary is optimized to use available CPU instructions in performance-critical operations.\n",
      "To enable the following instructions: AVX2 FMA, in other operations, rebuild TensorFlow with the appropriate compiler flags.\n",
      "2025-05-04 13:08:04.252085: W tensorflow/compiler/tf2tensorrt/utils/py_utils.cc:38] TF-TRT Warning: Could not find TensorRT\n"
     ]
    },
    {
     "name": "stdout",
     "output_type": "stream",
     "text": [
      "71282\n",
      "{'Title': <tf.Tensor: shape=(), dtype=string, numpy=b'Toy Story'>, 'Genre': <tf.Tensor: shape=(), dtype=string, numpy=b'Animation'>, 'Year': <tf.Tensor: shape=(), dtype=int64, numpy=1995>, 'Runtime': <tf.Tensor: shape=(), dtype=float64, numpy=81.0>, 'Popularity': <tf.Tensor: shape=(), dtype=float64, numpy=21.946943>, 'Language': <tf.Tensor: shape=(), dtype=string, numpy=b'en'>, 'Description': <tf.Tensor: shape=(), dtype=string, numpy=b\"Led by Woody, Andy's toys live happily in his room until Andy's birthday brings Buzz Lightyear onto the scene. Afraid of losing his place in Andy's heart, Woody plots against Buzz. But when circumstances separate Buzz and Woody from their owner, the duo eventually learns to put aside their differences.\">}\n"
     ]
    },
    {
     "name": "stderr",
     "output_type": "stream",
     "text": [
      "2025-05-04 13:08:06.741571: I tensorflow/compiler/xla/stream_executor/cuda/cuda_gpu_executor.cc:894] successful NUMA node read from SysFS had negative value (-1), but there must be at least one NUMA node, so returning NUMA node zero. See more at https://github.com/torvalds/linux/blob/v6.0/Documentation/ABI/testing/sysfs-bus-pci#L344-L355\n",
      "2025-05-04 13:08:06.762959: W tensorflow/core/common_runtime/gpu/gpu_device.cc:2211] Cannot dlopen some GPU libraries. Please make sure the missing libraries mentioned above are installed properly if you would like to use GPU. Follow the guide at https://www.tensorflow.org/install/gpu for how to download and setup the required libraries for your platform.\n",
      "Skipping registering GPU devices...\n"
     ]
    }
   ],
   "source": [
    "import os\n",
    "import pprint\n",
    "import tempfile\n",
    "\n",
    "from typing import Dict, Text\n",
    "\n",
    "import numpy as np\n",
    "import tensorflow as tf\n",
    "import tensorflow_recommenders as tfrs\n",
    "from dataloader import create_mvp_dataset"
   ]
  },
  {
   "cell_type": "code",
   "execution_count": 2,
   "metadata": {},
   "outputs": [
    {
     "name": "stdout",
     "output_type": "stream",
     "text": [
      "71282\n"
     ]
    }
   ],
   "source": [
    "dataset = create_mvp_dataset()\n",
    "movies = dataset.batch(32)\n",
    "\n",
    "unique_titles = set()\n",
    "unique_genres = set()\n",
    "\n",
    "for batch in movies:\n",
    "    # print(batch)\n",
    "    titles = batch['Title'].numpy()  # tensor of strings\n",
    "    genres = batch['Genre'].numpy()\n",
    "    unique_titles.update(titles)\n",
    "    unique_genres.update(genres)\n",
    "\n",
    "unique_titles = np.array(list(unique_titles))\n",
    "unique_genres = np.array(list(unique_genres))\n",
    "unique_langs = np.array(['en', 'hi', 'fr'])\n",
    "\n"
   ]
  },
  {
   "cell_type": "code",
   "execution_count": 3,
   "metadata": {},
   "outputs": [],
   "source": [
    "movies = dataset.map(lambda x: x[\"Title\"])\n",
    "descriptions = dataset.map(lambda x: x[\"Description\"])\n",
    "language = dataset.map(lambda x: x[\"Language\"])\n",
    "years = np.concatenate(list(dataset.map(lambda x: x[\"Year\"]).batch(100)))\n",
    "runtimes = np.concatenate(list(dataset.map(lambda x: x[\"Runtime\"]).batch(100)))\n",
    "popularity = np.concatenate(list(dataset.map(lambda x: x[\"Popularity\"]).batch(100)))"
   ]
  },
  {
   "cell_type": "code",
   "execution_count": 4,
   "metadata": {},
   "outputs": [],
   "source": [
    "max_year = years.max()\n",
    "min_year = years.min()\n",
    "\n",
    "year_buckets = np.arange(\n",
    "    min_year, max_year, 4\n",
    ")\n"
   ]
  },
  {
   "cell_type": "code",
   "execution_count": 5,
   "metadata": {},
   "outputs": [
    {
     "name": "stdout",
     "output_type": "stream",
     "text": [
      "[1878 1882 1886 1890 1894 1898 1902 1906 1910 1914 1918 1922 1926 1930\n",
      " 1934 1938 1942 1946 1950 1954 1958 1962 1966 1970 1974 1978 1982 1986\n",
      " 1990 1994 1998 2002 2006 2010 2014 2018]\n"
     ]
    }
   ],
   "source": [
    "print(year_buckets)"
   ]
  },
  {
   "cell_type": "code",
   "execution_count": 6,
   "metadata": {},
   "outputs": [],
   "source": [
    "class SafeAveragePooling(tf.keras.layers.Layer):\n",
    "    def call(self, inputs, mask=None):\n",
    "        if mask is not None:\n",
    "            mask = tf.cast(mask[:, :, tf.newaxis], tf.float32)\n",
    "            summed = tf.reduce_sum(inputs * mask, axis=1)\n",
    "            count = tf.reduce_sum(mask, axis=1)\n",
    "            return summed / (count + 1e-8)\n",
    "        else:\n",
    "            return tf.reduce_mean(inputs, axis=1)\n",
    "\n",
    "class UserModel(tf.keras.Model):\n",
    "\n",
    "  def __init__(self):\n",
    "    super().__init__()\n",
    "\n",
    "    max_tokens = 10000\n",
    "\n",
    "    self.genre_embedding = tf.keras.Sequential([\n",
    "        tf.keras.layers.StringLookup(\n",
    "            vocabulary=unique_genres, mask_token=None),\n",
    "        tf.keras.layers.Embedding(len(unique_genres) + 1, 32),\n",
    "    ])\n",
    "    self.lang_embedding = tf.keras.Sequential([\n",
    "        tf.keras.layers.StringLookup(\n",
    "            vocabulary=unique_langs, mask_token=None),\n",
    "        tf.keras.layers.Embedding(len(unique_langs) + 1, 32),\n",
    "    ])\n",
    "    self.year_embedding = tf.keras.Sequential([\n",
    "        tf.keras.layers.Discretization(year_buckets.tolist()),\n",
    "        tf.keras.layers.Embedding(len(year_buckets) + 1, 32),\n",
    "    ])\n",
    "    self.normalized_popularity = tf.keras.layers.Normalization(\n",
    "        axis=None\n",
    "    )\n",
    "    self.normalized_runtime = tf.keras.layers.Normalization(\n",
    "        axis=None\n",
    "    )\n",
    "    self.desc_vectorizer = tf.keras.layers.TextVectorization(\n",
    "        max_tokens=max_tokens)\n",
    "\n",
    "    self.desc_embedding = tf.keras.Sequential([\n",
    "      self.desc_vectorizer,\n",
    "      tf.keras.layers.Embedding(max_tokens, 32, mask_zero=True),\n",
    "    #   tf.keras.layers.GlobalAveragePooling1D(),\n",
    "      SafeAveragePooling(),\n",
    "\n",
    "    ])\n",
    "\n",
    "\n",
    "    self.desc_vectorizer.adapt(descriptions)\n",
    "    self.normalized_popularity.adapt(popularity)\n",
    "    self.normalized_runtime.adapt(runtimes)\n",
    "\n",
    "  def call(self, inputs):\n",
    "    # Take the input dictionary, pass it through each input layer,\n",
    "    # and concatenate the result.\n",
    "    return tf.concat([\n",
    "        self.genre_embedding(inputs[\"Genre\"]),\n",
    "        self.year_embedding(inputs[\"Year\"]),\n",
    "        self.desc_embedding(inputs[\"Description\"]),\n",
    "        self.lang_embedding(inputs[\"Language\"]),\n",
    "        tf.reshape(self.normalized_popularity(inputs[\"Popularity\"]), (-1, 1)),\n",
    "        tf.reshape(self.normalized_runtime(inputs[\"Runtime\"]), (-1, 1)),\n",
    "    ], axis=1)\n"
   ]
  },
  {
   "cell_type": "code",
   "execution_count": 7,
   "metadata": {},
   "outputs": [],
   "source": [
    "class QueryModel(tf.keras.Model):\n",
    "  \"\"\"Model for encoding user queries.\"\"\"\n",
    "\n",
    "  def __init__(self, layer_sizes):\n",
    "    \"\"\"Model for encoding user queries.\n",
    "\n",
    "    Args:\n",
    "      layer_sizes:\n",
    "        A list of integers where the i-th entry represents the number of units\n",
    "        the i-th layer contains.\n",
    "    \"\"\"\n",
    "    super().__init__()\n",
    "\n",
    "    # We first use the user model for generating embeddings.\n",
    "    self.embedding_model = UserModel()\n",
    "\n",
    "    # Then construct the layers.\n",
    "    self.dense_layers = tf.keras.Sequential([\n",
    "      tf.keras.layers.Dense(layer_sizes[0])\n",
    "    ])\n",
    "\n",
    "    # Use the ReLU activation for all but the last layer.\n",
    "    for layer_size in layer_sizes[:-1]:\n",
    "      self.dense_layers.add(tf.keras.layers.Dense(layer_size, activation=\"relu\"))\n",
    "\n",
    "    # No activation for the last layer.\n",
    "    for layer_size in layer_sizes[-1:]:\n",
    "      self.dense_layers.add(tf.keras.layers.Dense(layer_size))\n",
    "\n",
    "  def call(self, inputs):\n",
    "    feature_embedding = self.embedding_model(inputs)\n",
    "    return self.dense_layers(feature_embedding)"
   ]
  },
  {
   "cell_type": "code",
   "execution_count": 8,
   "metadata": {},
   "outputs": [],
   "source": [
    "class MovieModel(tf.keras.Model):\n",
    "\n",
    "  def __init__(self):\n",
    "    super().__init__()\n",
    "\n",
    "    max_tokens = 10_000\n",
    "\n",
    "    self.title_embedding = tf.keras.Sequential([\n",
    "      tf.keras.layers.StringLookup(\n",
    "          vocabulary=unique_titles,mask_token=None),\n",
    "      tf.keras.layers.Embedding(len(unique_titles) + 1, 32)\n",
    "    ])\n",
    "\n",
    "    self.title_vectorizer = tf.keras.layers.TextVectorization(\n",
    "        max_tokens=max_tokens)\n",
    "\n",
    "    self.title_text_embedding = tf.keras.Sequential([\n",
    "      self.title_vectorizer,\n",
    "      tf.keras.layers.Embedding(max_tokens, 32, mask_zero=True),\n",
    "      # tf.keras.layers.GlobalAveragePooling1D(),\n",
    "      SafeAveragePooling(),\n",
    "    ])\n",
    "\n",
    "    self.title_vectorizer.adapt(movies)\n",
    "\n",
    "  def call(self, titles):\n",
    "    return tf.concat([\n",
    "        self.title_embedding(titles),\n",
    "        self.title_text_embedding(titles),\n",
    "    ], axis=1)"
   ]
  },
  {
   "cell_type": "code",
   "execution_count": 9,
   "metadata": {},
   "outputs": [],
   "source": [
    "class CandidateModel(tf.keras.Model):\n",
    "  \"\"\"Model for encoding movies.\"\"\"\n",
    "\n",
    "  def __init__(self, layer_sizes):\n",
    "    \"\"\"Model for encoding movies.\n",
    "\n",
    "    Args:\n",
    "      layer_sizes:\n",
    "        A list of integers where the i-th entry represents the number of units\n",
    "        the i-th layer contains.\n",
    "    \"\"\"\n",
    "    super().__init__()\n",
    "\n",
    "    self.embedding_model = MovieModel()\n",
    "\n",
    "    # Then construct the layers.\n",
    "    self.dense_layers = tf.keras.Sequential([\n",
    "      tf.keras.layers.Dense(layer_sizes[0])\n",
    "    ])\n",
    "\n",
    "    # Use the ReLU activation for all but the last layer.\n",
    "    for layer_size in layer_sizes[:-1]:\n",
    "      self.dense_layers.add(tf.keras.layers.Dense(layer_size, activation=\"relu\"))\n",
    "\n",
    "    # No activation for the last layer.\n",
    "    for layer_size in layer_sizes[-1:]:\n",
    "      self.dense_layers.add(tf.keras.layers.Dense(layer_size))\n",
    "\n",
    "    # embedding_dim = 32\n",
    "    # self.dense_layers.build([None, embedding_dim])\n",
    "\n",
    "\n",
    "  def call(self, inputs):\n",
    "    feature_embedding = self.embedding_model(inputs)\n",
    "    return self.dense_layers(feature_embedding)"
   ]
  },
  {
   "cell_type": "code",
   "execution_count": 10,
   "metadata": {},
   "outputs": [],
   "source": [
    "class MovielensModel(tfrs.models.Model):\n",
    "\n",
    "  def __init__(self, layer_sizes_query, layer_sizes_cand):\n",
    "    super().__init__()\n",
    "    self.query_model = QueryModel(layer_sizes_query)\n",
    "    self.candidate_model = CandidateModel(layer_sizes_cand)\n",
    "    self.task = tfrs.tasks.Retrieval(\n",
    "        metrics=tfrs.metrics.FactorizedTopK(\n",
    "            candidates=movies.batch(32).map(self.candidate_model),\n",
    "        ),\n",
    "    )\n",
    "\n",
    "  def compute_loss(self, features, training=False):\n",
    "    query_embeddings = self.query_model({\n",
    "        \"Genre\": features[\"Genre\"],\n",
    "        \"Year\": features[\"Year\"],\n",
    "        \"Popularity\": features[\"Popularity\"],\n",
    "        \"Runtime\": features[\"Runtime\"],\n",
    "        \"Description\": features[\"Description\"],\n",
    "        \"Language\": features[\"Language\"]\n",
    "    })\n",
    "    # tf.print(f\"Query_emb \", query_embeddings)\n",
    "    movie_embeddings = self.candidate_model(features[\"Title\"])\n",
    "    # tf.print(\"Movie_emb \" , movie_embeddings)\n",
    "\n",
    "    return self.task(\n",
    "        query_embeddings, movie_embeddings, compute_metrics=not training)"
   ]
  },
  {
   "cell_type": "code",
   "execution_count": 11,
   "metadata": {},
   "outputs": [],
   "source": [
    "shuffled = dataset.shuffle(72000, seed=42, reshuffle_each_iteration=False)\n",
    "test = shuffled.take(1000)\n",
    "cached_train = dataset.batch(256).cache()\n",
    "cached_test = test.batch(128).cache()\n"
   ]
  },
  {
   "cell_type": "code",
   "execution_count": 27,
   "metadata": {},
   "outputs": [
    {
     "name": "stderr",
     "output_type": "stream",
     "text": [
      "/home/ds_students/anaconda3/envs/moodfli/lib/python3.10/site-packages/numpy/core/numeric.py:2468: FutureWarning: elementwise comparison failed; returning scalar instead, but in the future will perform elementwise comparison\n",
      "  return bool(asarray(a1 == a2).all())\n"
     ]
    }
   ],
   "source": [
    "# For checking model definitions\n",
    "cand_model = CandidateModel([32])\n",
    "quer_model = QueryModel([32])"
   ]
  },
  {
   "cell_type": "code",
   "execution_count": 12,
   "metadata": {},
   "outputs": [
    {
     "name": "stderr",
     "output_type": "stream",
     "text": [
      "/home/ds_students/anaconda3/envs/moodflix/lib/python3.10/site-packages/numpy/core/numeric.py:2468: FutureWarning: elementwise comparison failed; returning scalar instead, but in the future will perform elementwise comparison\n",
      "  return bool(asarray(a1 == a2).all())\n"
     ]
    },
    {
     "name": "stdout",
     "output_type": "stream",
     "text": [
      "INFO:tensorflow:Enabled check-numerics callback in thread MainThread\n",
      "Epoch 1/30\n",
      "279/279 [==============================] - 7s 19ms/step - factorized_top_k/top_1_categorical_accuracy: 0.0000e+00 - factorized_top_k/top_5_categorical_accuracy: 0.0000e+00 - factorized_top_k/top_10_categorical_accuracy: 0.0000e+00 - factorized_top_k/top_50_categorical_accuracy: 0.0000e+00 - factorized_top_k/top_100_categorical_accuracy: 0.0000e+00 - loss: 1403.3923 - regularization_loss: 0.0000e+00 - total_loss: 1403.3923\n",
      "Epoch 2/30\n",
      "279/279 [==============================] - 5s 18ms/step - factorized_top_k/top_1_categorical_accuracy: 0.0000e+00 - factorized_top_k/top_5_categorical_accuracy: 0.0000e+00 - factorized_top_k/top_10_categorical_accuracy: 0.0000e+00 - factorized_top_k/top_50_categorical_accuracy: 0.0000e+00 - factorized_top_k/top_100_categorical_accuracy: 0.0000e+00 - loss: 1339.1865 - regularization_loss: 0.0000e+00 - total_loss: 1339.1865\n",
      "Epoch 3/30\n",
      "279/279 [==============================] - 5s 18ms/step - factorized_top_k/top_1_categorical_accuracy: 0.0000e+00 - factorized_top_k/top_5_categorical_accuracy: 0.0000e+00 - factorized_top_k/top_10_categorical_accuracy: 0.0000e+00 - factorized_top_k/top_50_categorical_accuracy: 0.0000e+00 - factorized_top_k/top_100_categorical_accuracy: 0.0000e+00 - loss: 1209.2762 - regularization_loss: 0.0000e+00 - total_loss: 1209.2762\n",
      "Epoch 4/30\n",
      "279/279 [==============================] - 5s 18ms/step - factorized_top_k/top_1_categorical_accuracy: 0.0000e+00 - factorized_top_k/top_5_categorical_accuracy: 0.0000e+00 - factorized_top_k/top_10_categorical_accuracy: 0.0000e+00 - factorized_top_k/top_50_categorical_accuracy: 0.0000e+00 - factorized_top_k/top_100_categorical_accuracy: 0.0000e+00 - loss: 1088.5374 - regularization_loss: 0.0000e+00 - total_loss: 1088.5374\n",
      "Epoch 5/30\n",
      "279/279 [==============================] - 14s 51ms/step - factorized_top_k/top_1_categorical_accuracy: 0.0000e+00 - factorized_top_k/top_5_categorical_accuracy: 0.0000e+00 - factorized_top_k/top_10_categorical_accuracy: 0.0000e+00 - factorized_top_k/top_50_categorical_accuracy: 0.0000e+00 - factorized_top_k/top_100_categorical_accuracy: 0.0000e+00 - loss: 1016.6537 - regularization_loss: 0.0000e+00 - total_loss: 1016.6537 - val_factorized_top_k/top_1_categorical_accuracy: 0.0000e+00 - val_factorized_top_k/top_5_categorical_accuracy: 0.0030 - val_factorized_top_k/top_10_categorical_accuracy: 0.0030 - val_factorized_top_k/top_50_categorical_accuracy: 0.0130 - val_factorized_top_k/top_100_categorical_accuracy: 0.0230 - val_loss: 358.9043 - val_regularization_loss: 0.0000e+00 - val_total_loss: 358.9043\n",
      "Epoch 6/30\n",
      "279/279 [==============================] - 5s 18ms/step - factorized_top_k/top_1_categorical_accuracy: 0.0000e+00 - factorized_top_k/top_5_categorical_accuracy: 0.0000e+00 - factorized_top_k/top_10_categorical_accuracy: 0.0000e+00 - factorized_top_k/top_50_categorical_accuracy: 0.0000e+00 - factorized_top_k/top_100_categorical_accuracy: 0.0000e+00 - loss: 968.0378 - regularization_loss: 0.0000e+00 - total_loss: 968.0378\n",
      "Epoch 7/30\n",
      "279/279 [==============================] - 5s 18ms/step - factorized_top_k/top_1_categorical_accuracy: 0.0000e+00 - factorized_top_k/top_5_categorical_accuracy: 0.0000e+00 - factorized_top_k/top_10_categorical_accuracy: 0.0000e+00 - factorized_top_k/top_50_categorical_accuracy: 0.0000e+00 - factorized_top_k/top_100_categorical_accuracy: 0.0000e+00 - loss: 922.0712 - regularization_loss: 0.0000e+00 - total_loss: 922.0712\n",
      "Epoch 8/30\n",
      "279/279 [==============================] - 5s 18ms/step - factorized_top_k/top_1_categorical_accuracy: 0.0000e+00 - factorized_top_k/top_5_categorical_accuracy: 0.0000e+00 - factorized_top_k/top_10_categorical_accuracy: 0.0000e+00 - factorized_top_k/top_50_categorical_accuracy: 0.0000e+00 - factorized_top_k/top_100_categorical_accuracy: 0.0000e+00 - loss: 885.8913 - regularization_loss: 0.0000e+00 - total_loss: 885.8913\n",
      "Epoch 9/30\n",
      "279/279 [==============================] - 5s 18ms/step - factorized_top_k/top_1_categorical_accuracy: 0.0000e+00 - factorized_top_k/top_5_categorical_accuracy: 0.0000e+00 - factorized_top_k/top_10_categorical_accuracy: 0.0000e+00 - factorized_top_k/top_50_categorical_accuracy: 0.0000e+00 - factorized_top_k/top_100_categorical_accuracy: 0.0000e+00 - loss: 849.2577 - regularization_loss: 0.0000e+00 - total_loss: 849.2577\n",
      "Epoch 10/30\n",
      "279/279 [==============================] - 14s 51ms/step - factorized_top_k/top_1_categorical_accuracy: 0.0000e+00 - factorized_top_k/top_5_categorical_accuracy: 0.0000e+00 - factorized_top_k/top_10_categorical_accuracy: 0.0000e+00 - factorized_top_k/top_50_categorical_accuracy: 0.0000e+00 - factorized_top_k/top_100_categorical_accuracy: 0.0000e+00 - loss: 812.7529 - regularization_loss: 0.0000e+00 - total_loss: 812.7529 - val_factorized_top_k/top_1_categorical_accuracy: 0.0000e+00 - val_factorized_top_k/top_5_categorical_accuracy: 0.0010 - val_factorized_top_k/top_10_categorical_accuracy: 0.0010 - val_factorized_top_k/top_50_categorical_accuracy: 0.0220 - val_factorized_top_k/top_100_categorical_accuracy: 0.0440 - val_loss: 440.2606 - val_regularization_loss: 0.0000e+00 - val_total_loss: 440.2606\n",
      "Epoch 11/30\n",
      "279/279 [==============================] - 5s 18ms/step - factorized_top_k/top_1_categorical_accuracy: 0.0000e+00 - factorized_top_k/top_5_categorical_accuracy: 0.0000e+00 - factorized_top_k/top_10_categorical_accuracy: 0.0000e+00 - factorized_top_k/top_50_categorical_accuracy: 0.0000e+00 - factorized_top_k/top_100_categorical_accuracy: 0.0000e+00 - loss: 775.0513 - regularization_loss: 0.0000e+00 - total_loss: 775.0513\n",
      "Epoch 12/30\n",
      "279/279 [==============================] - 5s 18ms/step - factorized_top_k/top_1_categorical_accuracy: 0.0000e+00 - factorized_top_k/top_5_categorical_accuracy: 0.0000e+00 - factorized_top_k/top_10_categorical_accuracy: 0.0000e+00 - factorized_top_k/top_50_categorical_accuracy: 0.0000e+00 - factorized_top_k/top_100_categorical_accuracy: 0.0000e+00 - loss: 740.8019 - regularization_loss: 0.0000e+00 - total_loss: 740.8019\n",
      "Epoch 13/30\n",
      "279/279 [==============================] - 5s 18ms/step - factorized_top_k/top_1_categorical_accuracy: 0.0000e+00 - factorized_top_k/top_5_categorical_accuracy: 0.0000e+00 - factorized_top_k/top_10_categorical_accuracy: 0.0000e+00 - factorized_top_k/top_50_categorical_accuracy: 0.0000e+00 - factorized_top_k/top_100_categorical_accuracy: 0.0000e+00 - loss: 709.0558 - regularization_loss: 0.0000e+00 - total_loss: 709.0558\n",
      "Epoch 14/30\n",
      "279/279 [==============================] - 5s 18ms/step - factorized_top_k/top_1_categorical_accuracy: 0.0000e+00 - factorized_top_k/top_5_categorical_accuracy: 0.0000e+00 - factorized_top_k/top_10_categorical_accuracy: 0.0000e+00 - factorized_top_k/top_50_categorical_accuracy: 0.0000e+00 - factorized_top_k/top_100_categorical_accuracy: 0.0000e+00 - loss: 678.6161 - regularization_loss: 0.0000e+00 - total_loss: 678.6161\n",
      "Epoch 15/30\n",
      "279/279 [==============================] - 13s 47ms/step - factorized_top_k/top_1_categorical_accuracy: 0.0000e+00 - factorized_top_k/top_5_categorical_accuracy: 0.0000e+00 - factorized_top_k/top_10_categorical_accuracy: 0.0000e+00 - factorized_top_k/top_50_categorical_accuracy: 0.0000e+00 - factorized_top_k/top_100_categorical_accuracy: 0.0000e+00 - loss: 654.6107 - regularization_loss: 0.0000e+00 - total_loss: 654.6107 - val_factorized_top_k/top_1_categorical_accuracy: 0.0010 - val_factorized_top_k/top_5_categorical_accuracy: 0.0020 - val_factorized_top_k/top_10_categorical_accuracy: 0.0060 - val_factorized_top_k/top_50_categorical_accuracy: 0.0260 - val_factorized_top_k/top_100_categorical_accuracy: 0.0550 - val_loss: 523.6385 - val_regularization_loss: 0.0000e+00 - val_total_loss: 523.6385\n",
      "Epoch 16/30\n",
      "279/279 [==============================] - 5s 18ms/step - factorized_top_k/top_1_categorical_accuracy: 0.0000e+00 - factorized_top_k/top_5_categorical_accuracy: 0.0000e+00 - factorized_top_k/top_10_categorical_accuracy: 0.0000e+00 - factorized_top_k/top_50_categorical_accuracy: 0.0000e+00 - factorized_top_k/top_100_categorical_accuracy: 0.0000e+00 - loss: 629.1461 - regularization_loss: 0.0000e+00 - total_loss: 629.1461\n",
      "Epoch 17/30\n",
      "279/279 [==============================] - 5s 18ms/step - factorized_top_k/top_1_categorical_accuracy: 0.0000e+00 - factorized_top_k/top_5_categorical_accuracy: 0.0000e+00 - factorized_top_k/top_10_categorical_accuracy: 0.0000e+00 - factorized_top_k/top_50_categorical_accuracy: 0.0000e+00 - factorized_top_k/top_100_categorical_accuracy: 0.0000e+00 - loss: 608.0180 - regularization_loss: 0.0000e+00 - total_loss: 608.0180\n",
      "Epoch 18/30\n",
      "279/279 [==============================] - 5s 18ms/step - factorized_top_k/top_1_categorical_accuracy: 0.0000e+00 - factorized_top_k/top_5_categorical_accuracy: 0.0000e+00 - factorized_top_k/top_10_categorical_accuracy: 0.0000e+00 - factorized_top_k/top_50_categorical_accuracy: 0.0000e+00 - factorized_top_k/top_100_categorical_accuracy: 0.0000e+00 - loss: 587.7563 - regularization_loss: 0.0000e+00 - total_loss: 587.7563\n",
      "Epoch 19/30\n",
      "279/279 [==============================] - 5s 18ms/step - factorized_top_k/top_1_categorical_accuracy: 0.0000e+00 - factorized_top_k/top_5_categorical_accuracy: 0.0000e+00 - factorized_top_k/top_10_categorical_accuracy: 0.0000e+00 - factorized_top_k/top_50_categorical_accuracy: 0.0000e+00 - factorized_top_k/top_100_categorical_accuracy: 0.0000e+00 - loss: 567.8637 - regularization_loss: 0.0000e+00 - total_loss: 567.8637\n",
      "Epoch 20/30\n",
      "279/279 [==============================] - 14s 50ms/step - factorized_top_k/top_1_categorical_accuracy: 0.0000e+00 - factorized_top_k/top_5_categorical_accuracy: 0.0000e+00 - factorized_top_k/top_10_categorical_accuracy: 0.0000e+00 - factorized_top_k/top_50_categorical_accuracy: 0.0000e+00 - factorized_top_k/top_100_categorical_accuracy: 0.0000e+00 - loss: 549.2263 - regularization_loss: 0.0000e+00 - total_loss: 549.2263 - val_factorized_top_k/top_1_categorical_accuracy: 0.0010 - val_factorized_top_k/top_5_categorical_accuracy: 0.0040 - val_factorized_top_k/top_10_categorical_accuracy: 0.0070 - val_factorized_top_k/top_50_categorical_accuracy: 0.0300 - val_factorized_top_k/top_100_categorical_accuracy: 0.0610 - val_loss: 532.0580 - val_regularization_loss: 0.0000e+00 - val_total_loss: 532.0580\n",
      "Epoch 21/30\n",
      "279/279 [==============================] - 5s 18ms/step - factorized_top_k/top_1_categorical_accuracy: 0.0000e+00 - factorized_top_k/top_5_categorical_accuracy: 0.0000e+00 - factorized_top_k/top_10_categorical_accuracy: 0.0000e+00 - factorized_top_k/top_50_categorical_accuracy: 0.0000e+00 - factorized_top_k/top_100_categorical_accuracy: 0.0000e+00 - loss: 530.4282 - regularization_loss: 0.0000e+00 - total_loss: 530.4282\n",
      "Epoch 22/30\n",
      "279/279 [==============================] - 5s 18ms/step - factorized_top_k/top_1_categorical_accuracy: 0.0000e+00 - factorized_top_k/top_5_categorical_accuracy: 0.0000e+00 - factorized_top_k/top_10_categorical_accuracy: 0.0000e+00 - factorized_top_k/top_50_categorical_accuracy: 0.0000e+00 - factorized_top_k/top_100_categorical_accuracy: 0.0000e+00 - loss: 515.9035 - regularization_loss: 0.0000e+00 - total_loss: 515.9035\n",
      "Epoch 23/30\n",
      "279/279 [==============================] - 4s 15ms/step - factorized_top_k/top_1_categorical_accuracy: 0.0000e+00 - factorized_top_k/top_5_categorical_accuracy: 0.0000e+00 - factorized_top_k/top_10_categorical_accuracy: 0.0000e+00 - factorized_top_k/top_50_categorical_accuracy: 0.0000e+00 - factorized_top_k/top_100_categorical_accuracy: 0.0000e+00 - loss: 501.7283 - regularization_loss: 0.0000e+00 - total_loss: 501.7283\n",
      "Epoch 24/30\n",
      "279/279 [==============================] - 5s 17ms/step - factorized_top_k/top_1_categorical_accuracy: 0.0000e+00 - factorized_top_k/top_5_categorical_accuracy: 0.0000e+00 - factorized_top_k/top_10_categorical_accuracy: 0.0000e+00 - factorized_top_k/top_50_categorical_accuracy: 0.0000e+00 - factorized_top_k/top_100_categorical_accuracy: 0.0000e+00 - loss: 487.1669 - regularization_loss: 0.0000e+00 - total_loss: 487.1669\n",
      "Epoch 25/30\n",
      "279/279 [==============================] - 13s 45ms/step - factorized_top_k/top_1_categorical_accuracy: 0.0000e+00 - factorized_top_k/top_5_categorical_accuracy: 0.0000e+00 - factorized_top_k/top_10_categorical_accuracy: 0.0000e+00 - factorized_top_k/top_50_categorical_accuracy: 0.0000e+00 - factorized_top_k/top_100_categorical_accuracy: 0.0000e+00 - loss: 471.3434 - regularization_loss: 0.0000e+00 - total_loss: 471.3434 - val_factorized_top_k/top_1_categorical_accuracy: 0.0010 - val_factorized_top_k/top_5_categorical_accuracy: 0.0020 - val_factorized_top_k/top_10_categorical_accuracy: 0.0050 - val_factorized_top_k/top_50_categorical_accuracy: 0.0320 - val_factorized_top_k/top_100_categorical_accuracy: 0.0590 - val_loss: 634.3056 - val_regularization_loss: 0.0000e+00 - val_total_loss: 634.3056\n",
      "Epoch 26/30\n",
      "279/279 [==============================] - 5s 18ms/step - factorized_top_k/top_1_categorical_accuracy: 0.0000e+00 - factorized_top_k/top_5_categorical_accuracy: 0.0000e+00 - factorized_top_k/top_10_categorical_accuracy: 0.0000e+00 - factorized_top_k/top_50_categorical_accuracy: 0.0000e+00 - factorized_top_k/top_100_categorical_accuracy: 0.0000e+00 - loss: 457.2228 - regularization_loss: 0.0000e+00 - total_loss: 457.2228\n",
      "Epoch 27/30\n",
      "279/279 [==============================] - 5s 18ms/step - factorized_top_k/top_1_categorical_accuracy: 0.0000e+00 - factorized_top_k/top_5_categorical_accuracy: 0.0000e+00 - factorized_top_k/top_10_categorical_accuracy: 0.0000e+00 - factorized_top_k/top_50_categorical_accuracy: 0.0000e+00 - factorized_top_k/top_100_categorical_accuracy: 0.0000e+00 - loss: 445.4293 - regularization_loss: 0.0000e+00 - total_loss: 445.4293\n",
      "Epoch 28/30\n",
      "279/279 [==============================] - 5s 18ms/step - factorized_top_k/top_1_categorical_accuracy: 0.0000e+00 - factorized_top_k/top_5_categorical_accuracy: 0.0000e+00 - factorized_top_k/top_10_categorical_accuracy: 0.0000e+00 - factorized_top_k/top_50_categorical_accuracy: 0.0000e+00 - factorized_top_k/top_100_categorical_accuracy: 0.0000e+00 - loss: 434.5770 - regularization_loss: 0.0000e+00 - total_loss: 434.5770\n",
      "Epoch 29/30\n",
      "279/279 [==============================] - 5s 18ms/step - factorized_top_k/top_1_categorical_accuracy: 0.0000e+00 - factorized_top_k/top_5_categorical_accuracy: 0.0000e+00 - factorized_top_k/top_10_categorical_accuracy: 0.0000e+00 - factorized_top_k/top_50_categorical_accuracy: 0.0000e+00 - factorized_top_k/top_100_categorical_accuracy: 0.0000e+00 - loss: 423.1027 - regularization_loss: 0.0000e+00 - total_loss: 423.1027\n",
      "Epoch 30/30\n",
      "279/279 [==============================] - 14s 52ms/step - factorized_top_k/top_1_categorical_accuracy: 0.0000e+00 - factorized_top_k/top_5_categorical_accuracy: 0.0000e+00 - factorized_top_k/top_10_categorical_accuracy: 0.0000e+00 - factorized_top_k/top_50_categorical_accuracy: 0.0000e+00 - factorized_top_k/top_100_categorical_accuracy: 0.0000e+00 - loss: 413.6946 - regularization_loss: 0.0000e+00 - total_loss: 413.6946 - val_factorized_top_k/top_1_categorical_accuracy: 0.0000e+00 - val_factorized_top_k/top_5_categorical_accuracy: 0.0030 - val_factorized_top_k/top_10_categorical_accuracy: 0.0060 - val_factorized_top_k/top_50_categorical_accuracy: 0.0300 - val_factorized_top_k/top_100_categorical_accuracy: 0.0620 - val_loss: 780.8405 - val_regularization_loss: 0.0000e+00 - val_total_loss: 780.8405\n"
     ]
    }
   ],
   "source": [
    "num_epochs = 30\n",
    "\n",
    "model = MovielensModel([32], [32])\n",
    "model.compile(optimizer=tf.keras.optimizers.Adagrad(0.01))\n",
    "\n",
    "tf.debugging.enable_check_numerics()\n",
    "\n",
    "one_layer_history = model.fit(\n",
    "    cached_train,\n",
    "    validation_data=cached_test,\n",
    "    validation_freq=5,\n",
    "    epochs=num_epochs,\n",
    "    verbose=1)"
   ]
  },
  {
   "cell_type": "code",
   "execution_count": 13,
   "metadata": {},
   "outputs": [
    {
     "data": {
      "image/png": "[encoded data removed]",
      "text/plain": [
       "<Figure size 1000x600 with 1 Axes>"
      ]
     },
     "metadata": {},
     "output_type": "display_data"
    }
   ],
   "source": [
    "import matplotlib.pyplot as plt\n",
    "\n",
    "# Get the history dictionary\n",
    "history = one_layer_history.history\n",
    "\n",
    "# Extract loss and val_loss\n",
    "loss = history['loss']\n",
    "val_loss = history.get('val_loss', None)  # May be None if validation_freq hasn't triggered yet\n",
    "\n",
    "# Plot\n",
    "plt.figure(figsize=(10, 6))\n",
    "plt.plot(loss, label='Training Loss')\n",
    "if val_loss:\n",
    "    # Plot only the validation loss points that were recorded (since val is logged only every 5 epochs)\n",
    "    val_epochs = list(range(4, len(loss), 5))  # because validation_freq=5\n",
    "    plt.plot(val_epochs, val_loss, label='Validation Loss', marker='o')\n",
    "plt.xlabel('Epochs')\n",
    "plt.ylabel('Loss')\n",
    "plt.title('Training & Validation Loss')\n",
    "plt.legend()\n",
    "plt.grid(True)\n",
    "plt.show()\n"
   ]
  },
  {
   "cell_type": "code",
   "execution_count": 14,
   "metadata": {},
   "outputs": [
    {
     "name": "stdout",
     "output_type": "stream",
     "text": [
      "Top-100 accuracy: 0.06.\n"
     ]
    }
   ],
   "source": [
    "accuracy = one_layer_history.history[\"val_factorized_top_k/top_100_categorical_accuracy\"][-1]\n",
    "print(f\"Top-100 accuracy: {accuracy:.2f}.\")"
   ]
  },
  {
   "cell_type": "code",
   "execution_count": 49,
   "metadata": {},
   "outputs": [
    {
     "name": "stdout",
     "output_type": "stream",
     "text": [
      "{'Title': <tf.Tensor: shape=(1,), dtype=string, numpy=array([b'Hanky Panky'], dtype=object)>, 'Genre': <tf.Tensor: shape=(1,), dtype=string, numpy=array([b'Comedy'], dtype=object)>, 'Year': <tf.Tensor: shape=(1,), dtype=int64, numpy=array([1982])>, 'Runtime': <tf.Tensor: shape=(1,), dtype=float64, numpy=array([110.])>, 'Popularity': <tf.Tensor: shape=(1,), dtype=float64, numpy=array([8.240643])>, 'Language': <tf.Tensor: shape=(1,), dtype=string, numpy=array([b'en'], dtype=object)>, 'Description': <tf.Tensor: shape=(1,), dtype=string, numpy=\n",
      "array([b'The complete innocent, Michael Jordon, is drawn into a web of secrecy and government secrets when a girl carrying a mysterious package gets into a taxi with him. When she is later murdered, Michael is the chief suspect and on the run.'],\n",
      "      dtype=object)>}\n",
      "[[b\"Flyin' Ryan\", b'Asambhav', b'Asambhav', b'Asambhav', b'The Scalphunters', b'The Scalphunters', b'The Scalphunters', b'The Parole Officer', b'The Parole Officer', b'Unstable Fables: Tortoise vs. Hare']]\n",
      "<class 'list'>\n",
      "Recommendations: [\"Flyin' Ryan\", 'Asambhav', 'Asambhav', 'Asambhav', 'The Scalphunters', 'The Scalphunters', 'The Scalphunters', 'The Parole Officer', 'The Parole Officer', 'Unstable Fables: Tortoise vs. Hare']\n"
     ]
    }
   ],
   "source": [
    "# Create a model that takes in raw query features, and\n",
    "index = tfrs.layers.factorized_top_k.BruteForce(model.query_model)\n",
    "# recommends movies out of the entire movies dataset.\n",
    "index.index_from_dataset(\n",
    "  tf.data.Dataset.zip((movies.batch(100), movies.batch(100).map(model.candidate_model)))\n",
    ")\n",
    "\n",
    "# Get recommendations.\n",
    "for row in test.batch(1).take(1):\n",
    "    print(row)\n",
    "    _, titles = index(row)\n",
    "    titles_raw = titles.numpy().tolist()\n",
    "    print(titles_raw)\n",
    "    titles_str = [b.decode('utf-8') for b in titles_raw[0]]\n",
    "    print(type(titles_str))\n",
    "    print(f\"Recommendations: {titles_str[:10]}\")"
   ]
  },
  {
   "cell_type": "code",
   "execution_count": 20,
   "metadata": {},
   "outputs": [
    {
     "name": "stdout",
     "output_type": "stream",
     "text": [
      "WARNING:tensorflow:Model's `__init__()` arguments contain non-serializable objects. Please implement a `get_config()` method in the subclassed Model for proper saving and loading. Defaulting to empty config.\n"
     ]
    },
    {
     "name": "stderr",
     "output_type": "stream",
     "text": [
      "WARNING:tensorflow:Model's `__init__()` arguments contain non-serializable objects. Please implement a `get_config()` method in the subclassed Model for proper saving and loading. Defaulting to empty config.\n"
     ]
    },
    {
     "name": "stdout",
     "output_type": "stream",
     "text": [
      "WARNING:tensorflow:Model's `__init__()` arguments contain non-serializable objects. Please implement a `get_config()` method in the subclassed Model for proper saving and loading. Defaulting to empty config.\n"
     ]
    },
    {
     "name": "stderr",
     "output_type": "stream",
     "text": [
      "WARNING:tensorflow:Model's `__init__()` arguments contain non-serializable objects. Please implement a `get_config()` method in the subclassed Model for proper saving and loading. Defaulting to empty config.\n"
     ]
    },
    {
     "name": "stdout",
     "output_type": "stream",
     "text": [
      "INFO:tensorflow:Assets written to: final_input_index/assets\n"
     ]
    },
    {
     "name": "stderr",
     "output_type": "stream",
     "text": [
      "INFO:tensorflow:Assets written to: final_input_index/assets\n"
     ]
    }
   ],
   "source": [
    "# Create a model that takes in raw query features, and\n",
    "index = tfrs.layers.factorized_top_k.BruteForce(model.query_model)\n",
    "# recommends movies out of the entire movies dataset.\n",
    "index.index_from_dataset(\n",
    "  tf.data.Dataset.zip((movies.batch(100), movies.batch(100).map(model.candidate_model)))\n",
    ")\n",
    "\n",
    "class RetrievalModel(tf.Module):\n",
    "    def __init__(self, index):\n",
    "        super().__init__()\n",
    "        self.index = index\n",
    "\n",
    "    @tf.function(input_signature=[\n",
    "        {\n",
    "            \"Title\": tf.TensorSpec(shape=[None], dtype=tf.string),\n",
    "            \"Genre\": tf.TensorSpec(shape=[None], dtype=tf.string),\n",
    "            \"Year\": tf.TensorSpec(shape=[None], dtype=tf.int64),\n",
    "            \"Runtime\": tf.TensorSpec(shape=[None], dtype=tf.float32),  # Changed from float64\n",
    "            \"Popularity\": tf.TensorSpec(shape=[None], dtype=tf.float32),  # Changed from float64\n",
    "            \"Language\": tf.TensorSpec(shape=[None], dtype=tf.string),\n",
    "            \"Description\": tf.TensorSpec(shape=[None], dtype=tf.string),\n",
    "        }\n",
    "    ])\n",
    "    def __call__(self, inputs):\n",
    "        return self.index(inputs)\n",
    "\n",
    "# Build your BruteForce index\n",
    "# e.g., index = tfrs.layers.factorized_top_k.BruteForce(...)\n",
    "\n",
    "# Wrap it\n",
    "wrapped_model = RetrievalModel(index)\n",
    "\n",
    "# Save\n",
    "tf.saved_model.save(wrapped_model, \"final_input_index\")\n"
   ]
  },
  {
   "cell_type": "code",
   "execution_count": 29,
   "metadata": {},
   "outputs": [],
   "source": [
    "from fastapi import FastAPI, HTTPException\n",
    "import uvicorn\n",
    "from pydantic import BaseModel\n",
    "import joblib\n",
    "import numpy as np\n",
    "import pandas as pd\n",
    "from typing import List, Union\n",
    "import nest_asyncio\n",
    "nest_asyncio.apply()"
   ]
  },
  {
   "cell_type": "code",
   "execution_count": 51,
   "metadata": {},
   "outputs": [
    {
     "name": "stderr",
     "output_type": "stream",
     "text": [
      "INFO:     Started server process [9572]\n",
      "INFO:     Waiting for application startup.\n",
      "INFO:     Application startup complete.\n",
      "INFO:     Uvicorn running on http://0.0.0.0:5000 (Press CTRL+C to quit)\n"
     ]
    }
   ],
   "source": [
    "app = FastAPI(title=\"Model Serving API\")\n",
    "\n",
    "# Define input schema for TensorFlow-compatible data\n",
    "class PredictionInput(BaseModel):\n",
    "    Title: List[str]\n",
    "    Genre: List[str]\n",
    "    Year: List[int]\n",
    "    Runtime: List[float]\n",
    "    Popularity: List[float]\n",
    "    Language: List[str]\n",
    "    Description: List[str]\n",
    "    \n",
    "    # Example configuration\n",
    "    class Config:\n",
    "        json_schema_extra = {\n",
    "            \"example\": {\n",
    "                \"Title\": [\"Hanky Panky\"],\n",
    "                \"Genre\": [\"Comedy\"],\n",
    "                \"Year\": [1982],\n",
    "                \"Runtime\": [110.0],\n",
    "                \"Popularity\": [0.5],\n",
    "                \"Language\": [\"English\"],\n",
    "                \"Description\": [\"The complete innocent, Michael Jordon, is drawn into a web...\"]\n",
    "            }\n",
    "        }\n",
    "\n",
    "# Output schema for prediction results\n",
    "class PredictionOutput(BaseModel):\n",
    "    scores: List[float]\n",
    "    titles: List[str]\n",
    "    \n",
    "    class Config:\n",
    "        json_schema_extra = {\n",
    "            \"example\": {\n",
    "                \"scores\": [0.8, 0.7, 0.9, 0.6, 0.5],\n",
    "                \"titles\": [\"Movie 1\", \"Movie 2\", \"Movie 3\", \"Movie 4\", \"Movie 5\"]\n",
    "            }\n",
    "        }\n",
    "\n",
    "@app.get(\"/\")\n",
    "async def root():\n",
    "    return {\"message\": \"Model Serving API is running\"}\n",
    "\n",
    "@app.post(\"/predict\", response_model=PredictionOutput)\n",
    "async def predict(input_data: PredictionInput):\n",
    "    try:\n",
    "        # Convert input to appropriate format (adjust based on your model)\n",
    "        sample_input = {\n",
    "            \"Title\": tf.constant(input_data.Title),\n",
    "            \"Genre\": tf.constant(input_data.Genre),\n",
    "            \"Year\": tf.constant(input_data.Year, dtype=tf.int64),\n",
    "            \"Runtime\": tf.constant(input_data.Runtime, dtype=tf.float32),\n",
    "            \"Popularity\": tf.constant(input_data.Popularity, dtype=tf.float32),\n",
    "            \"Language\": tf.constant(input_data.Language),\n",
    "            \"Description\": tf.constant(input_data.Description),\n",
    "        }\n",
    "        \n",
    "#         {'Title': <tf.Tensor: shape=(1,), dtype=string, numpy=array([b'Hanky Panky'], dtype=object)>, 'Genre': <tf.Tensor: shape=(1,), dtype=string, numpy=array([b'Comedy'], dtype=object)>, 'Year': <tf.Tensor: shape=(1,), dtype=int64, numpy=array([1982])>, 'Runtime': <tf.Tensor: shape=(1,), dtype=float64, numpy=array([110.])>, 'Popularity': <tf.Tensor: shape=(1,), dtype=float64, numpy=array([8.240643])>, 'Language': <tf.Tensor: shape=(1,), dtype=string, numpy=array([b'en'], dtype=object)>, 'Description': <tf.Tensor: shape=(1,), dtype=string, numpy=\n",
    "# array([b'The complete innocent, Michael Jordon, is drawn into a web of secrecy and government secrets when a girl carrying a mysterious package gets into a taxi with him. When she is later murdered, Michael is the chief suspect and on the run.'],\n",
    "#       dtype=object)>}\n",
    "        # Make prediction\n",
    "        scores, pred = index(sample_input)\n",
    "\n",
    "        titles_raw = pred.numpy().tolist()\n",
    "        fin_title = [title.decode('utf-8') for title in titles_raw[0]]\n",
    "        scores_raw = [12, 23]\n",
    "        \n",
    "        return PredictionOutput(scores=scores_raw, titles=fin_title)\n",
    "            \n",
    "    except Exception as e:\n",
    "        raise HTTPException(status_code=400, detail=str(e))\n",
    "\n",
    "# Run the server (blocking)\n",
    "if __name__ == \"__main__\":\n",
    "    uvicorn.run(app, host=\"0.0.0.0\", port=5000)"
   ]
  },
  {
   "cell_type": "code",
   "execution_count": 28,
   "metadata": {},
   "outputs": [
    {
     "name": "stderr",
     "output_type": "stream",
     "text": [
      "INFO:     Started server process [9572]\n",
      "INFO:     Waiting for application startup.\n",
      "INFO:     Application startup complete.\n",
      "INFO:     Uvicorn running on http://0.0.0.0:8000 (Press CTRL+C to quit)\n"
     ]
    },
    {
     "name": "stdout",
     "output_type": "stream",
     "text": [
      "INFO:     127.0.0.1:49580 - \"GET / HTTP/1.1\" 200 OK\n",
      "INFO:     127.0.0.1:52942 - \"GET / HTTP/1.1\" 200 OK\n"
     ]
    },
    {
     "name": "stderr",
     "output_type": "stream",
     "text": [
      "INFO:     Shutting down\n",
      "INFO:     Waiting for application shutdown.\n",
      "INFO:     Application shutdown complete.\n",
      "INFO:     Finished server process [9572]\n"
     ]
    }
   ],
   "source": [
    "# In a Jupyter notebook cell\n",
    "import nest_asyncio\n",
    "nest_asyncio.apply()\n",
    "\n",
    "# Run the server (blocking)\n",
    "if __name__ == \"__main__\":\n",
    "    uvicorn.run(app, host=\"0.0.0.0\", port=5000)"
   ]
  },
  {
   "cell_type": "code",
   "execution_count": null,
   "metadata": {},
   "outputs": [],
   "source": []
  }
 ],
 "metadata": {
  "interpreter": {
   "hash": "6ffd735a5a00ff33d86eb41ae497a137bd664a71b8d8a588567ea99bf4e4e34a"
  },
  "kernelspec": {
   "display_name": "Python 3.10.0 ('moodflix')",
   "language": "python",
   "name": "python3"
  },
  "language_info": {
   "codemirror_mode": {
    "name": "ipython",
    "version": 3
   },
   "file_extension": ".py",
   "mimetype": "text/x-python",
   "name": "python",
   "nbconvert_exporter": "python",
   "pygments_lexer": "ipython3",
   "version": "3.10.0"
  },
  "orig_nbformat": 4
 },
 "nbformat": 4,
 "nbformat_minor": 2
}
