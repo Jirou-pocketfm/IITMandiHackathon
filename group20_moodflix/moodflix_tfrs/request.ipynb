{
 "cells": [
  {
   "cell_type": "code",
   "execution_count": 14,
   "metadata": {},
   "outputs": [],
   "source": [
    "import requests\n",
    "import json\n",
    "\n",
    "# Define your input data\n",
    "input_data = {\n",
    "    \"Title\": [\"Hanky Panky\"],\n",
    "    \"Genre\": [\"Comedy\"],\n",
    "    \"Year\": [1982],\n",
    "    \"Runtime\": [110.0],\n",
    "    \"Popularity\": [0.5],\n",
    "    \"Language\": [\"en\"],\n",
    "    \"Description\": [\"The complete innocent, Michael Jordon, is drawn into a web...\"]\n",
    "}\n",
    "\n",
    "# Send POST request to your API\n",
    "response = requests.post(\"http://14.139.34.101:5000/predict\", json=input_data)\n",
    "\n",
    "# Check if successful\n",
    "if response.status_code == 200:\n",
    "    result = response.json()\n",
    "    print(\"Scores:\", result['scores'])\n",
    "    print(\"Titles:\", result['titles'])\n",
    "else:\n",
    "    print(\"Error:\", response.status_code)\n",
    "    print(\"Details:\", response.text)"
   ]
  },
  {
   "cell_type": "code",
   "execution_count": 13,
   "metadata": {},
   "outputs": [
    {
     "name": "stdout",
     "output_type": "stream",
     "text": [
      "Your public IP is: 14.139.34.101\n"
     ]
    }
   ],
   "source": [
    "import requests\n",
    "\n",
    "# Method 1\n",
    "response = requests.get('https://ifconfig.me/ip')\n",
    "print(f\"Your public IP is: {response.text}\")"
   ]
  },
  {
   "cell_type": "code",
   "execution_count": null,
   "metadata": {},
   "outputs": [],
   "source": []
  }
 ],
 "metadata": {
  "interpreter": {
   "hash": "6ffd735a5a00ff33d86eb41ae497a137bd664a71b8d8a588567ea99bf4e4e34a"
  },
  "kernelspec": {
   "display_name": "Python 3.10.0 ('moodflix')",
   "language": "python",
   "name": "python3"
  },
  "language_info": {
   "codemirror_mode": {
    "name": "ipython",
    "version": 3
   },
   "file_extension": ".py",
   "mimetype": "text/x-python",
   "name": "python",
   "nbconvert_exporter": "python",
   "pygments_lexer": "ipython3",
   "version": "3.10.0"
  },
  "orig_nbformat": 4
 },
 "nbformat": 4,
 "nbformat_minor": 2
}
